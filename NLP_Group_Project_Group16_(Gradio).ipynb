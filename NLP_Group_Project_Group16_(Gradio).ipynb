{
  "nbformat": 4,
  "nbformat_minor": 0,
  "metadata": {
    "colab": {
      "provenance": [],
      "gpuType": "T4",
      "include_colab_link": true
    },
    "kernelspec": {
      "name": "python3",
      "display_name": "Python 3"
    },
    "language_info": {
      "name": "python"
    },
    "accelerator": "GPU"
  },
  "cells": [
    {
      "cell_type": "markdown",
      "metadata": {
        "id": "view-in-github",
        "colab_type": "text"
      },
      "source": [
        "<a href=\"https://colab.research.google.com/github/LeeMinQi-25/Fake-News-Detection-with-Deep-Learning/blob/main/NLP_Group_Project_Group16_(Gradio).ipynb\" target=\"_parent\"><img src=\"https://colab.research.google.com/assets/colab-badge.svg\" alt=\"Open In Colab\"/></a>"
      ]
    },
    {
      "cell_type": "code",
      "source": [
        "!pip install gradio"
      ],
      "metadata": {
        "colab": {
          "base_uri": "https://localhost:8080/"
        },
        "collapsed": true,
        "id": "cqo59zfi7Z20",
        "outputId": "24bd2040-cb29-41a2-f015-7690173d05c5"
      },
      "execution_count": null,
      "outputs": [
        {
          "output_type": "stream",
          "name": "stdout",
          "text": [
            "Requirement already satisfied: gradio in /usr/local/lib/python3.11/dist-packages (5.31.0)\n",
            "Requirement already satisfied: aiofiles<25.0,>=22.0 in /usr/local/lib/python3.11/dist-packages (from gradio) (24.1.0)\n",
            "Requirement already satisfied: anyio<5.0,>=3.0 in /usr/local/lib/python3.11/dist-packages (from gradio) (4.9.0)\n",
            "Requirement already satisfied: fastapi<1.0,>=0.115.2 in /usr/local/lib/python3.11/dist-packages (from gradio) (0.115.12)\n",
            "Requirement already satisfied: ffmpy in /usr/local/lib/python3.11/dist-packages (from gradio) (0.6.0)\n",
            "Requirement already satisfied: gradio-client==1.10.1 in /usr/local/lib/python3.11/dist-packages (from gradio) (1.10.1)\n",
            "Requirement already satisfied: groovy~=0.1 in /usr/local/lib/python3.11/dist-packages (from gradio) (0.1.2)\n",
            "Requirement already satisfied: httpx>=0.24.1 in /usr/local/lib/python3.11/dist-packages (from gradio) (0.28.1)\n",
            "Requirement already satisfied: huggingface-hub>=0.28.1 in /usr/local/lib/python3.11/dist-packages (from gradio) (0.33.0)\n",
            "Requirement already satisfied: jinja2<4.0 in /usr/local/lib/python3.11/dist-packages (from gradio) (3.1.6)\n",
            "Requirement already satisfied: markupsafe<4.0,>=2.0 in /usr/local/lib/python3.11/dist-packages (from gradio) (3.0.2)\n",
            "Requirement already satisfied: numpy<3.0,>=1.0 in /usr/local/lib/python3.11/dist-packages (from gradio) (2.0.2)\n",
            "Requirement already satisfied: orjson~=3.0 in /usr/local/lib/python3.11/dist-packages (from gradio) (3.10.18)\n",
            "Requirement already satisfied: packaging in /usr/local/lib/python3.11/dist-packages (from gradio) (24.2)\n",
            "Requirement already satisfied: pandas<3.0,>=1.0 in /usr/local/lib/python3.11/dist-packages (from gradio) (2.2.2)\n",
            "Requirement already satisfied: pillow<12.0,>=8.0 in /usr/local/lib/python3.11/dist-packages (from gradio) (11.2.1)\n",
            "Requirement already satisfied: pydantic<2.12,>=2.0 in /usr/local/lib/python3.11/dist-packages (from gradio) (2.11.7)\n",
            "Requirement already satisfied: pydub in /usr/local/lib/python3.11/dist-packages (from gradio) (0.25.1)\n",
            "Requirement already satisfied: python-multipart>=0.0.18 in /usr/local/lib/python3.11/dist-packages (from gradio) (0.0.20)\n",
            "Requirement already satisfied: pyyaml<7.0,>=5.0 in /usr/local/lib/python3.11/dist-packages (from gradio) (6.0.2)\n",
            "Requirement already satisfied: ruff>=0.9.3 in /usr/local/lib/python3.11/dist-packages (from gradio) (0.11.13)\n",
            "Requirement already satisfied: safehttpx<0.2.0,>=0.1.6 in /usr/local/lib/python3.11/dist-packages (from gradio) (0.1.6)\n",
            "Requirement already satisfied: semantic-version~=2.0 in /usr/local/lib/python3.11/dist-packages (from gradio) (2.10.0)\n",
            "Requirement already satisfied: starlette<1.0,>=0.40.0 in /usr/local/lib/python3.11/dist-packages (from gradio) (0.46.2)\n",
            "Requirement already satisfied: tomlkit<0.14.0,>=0.12.0 in /usr/local/lib/python3.11/dist-packages (from gradio) (0.13.3)\n",
            "Requirement already satisfied: typer<1.0,>=0.12 in /usr/local/lib/python3.11/dist-packages (from gradio) (0.16.0)\n",
            "Requirement already satisfied: typing-extensions~=4.0 in /usr/local/lib/python3.11/dist-packages (from gradio) (4.14.0)\n",
            "Requirement already satisfied: uvicorn>=0.14.0 in /usr/local/lib/python3.11/dist-packages (from gradio) (0.34.3)\n",
            "Requirement already satisfied: fsspec in /usr/local/lib/python3.11/dist-packages (from gradio-client==1.10.1->gradio) (2025.3.2)\n",
            "Requirement already satisfied: websockets<16.0,>=10.0 in /usr/local/lib/python3.11/dist-packages (from gradio-client==1.10.1->gradio) (15.0.1)\n",
            "Requirement already satisfied: idna>=2.8 in /usr/local/lib/python3.11/dist-packages (from anyio<5.0,>=3.0->gradio) (3.10)\n",
            "Requirement already satisfied: sniffio>=1.1 in /usr/local/lib/python3.11/dist-packages (from anyio<5.0,>=3.0->gradio) (1.3.1)\n",
            "Requirement already satisfied: certifi in /usr/local/lib/python3.11/dist-packages (from httpx>=0.24.1->gradio) (2025.6.15)\n",
            "Requirement already satisfied: httpcore==1.* in /usr/local/lib/python3.11/dist-packages (from httpx>=0.24.1->gradio) (1.0.9)\n",
            "Requirement already satisfied: h11>=0.16 in /usr/local/lib/python3.11/dist-packages (from httpcore==1.*->httpx>=0.24.1->gradio) (0.16.0)\n",
            "Requirement already satisfied: filelock in /usr/local/lib/python3.11/dist-packages (from huggingface-hub>=0.28.1->gradio) (3.18.0)\n",
            "Requirement already satisfied: requests in /usr/local/lib/python3.11/dist-packages (from huggingface-hub>=0.28.1->gradio) (2.32.3)\n",
            "Requirement already satisfied: tqdm>=4.42.1 in /usr/local/lib/python3.11/dist-packages (from huggingface-hub>=0.28.1->gradio) (4.67.1)\n",
            "Requirement already satisfied: hf-xet<2.0.0,>=1.1.2 in /usr/local/lib/python3.11/dist-packages (from huggingface-hub>=0.28.1->gradio) (1.1.3)\n",
            "Requirement already satisfied: python-dateutil>=2.8.2 in /usr/local/lib/python3.11/dist-packages (from pandas<3.0,>=1.0->gradio) (2.9.0.post0)\n",
            "Requirement already satisfied: pytz>=2020.1 in /usr/local/lib/python3.11/dist-packages (from pandas<3.0,>=1.0->gradio) (2025.2)\n",
            "Requirement already satisfied: tzdata>=2022.7 in /usr/local/lib/python3.11/dist-packages (from pandas<3.0,>=1.0->gradio) (2025.2)\n",
            "Requirement already satisfied: annotated-types>=0.6.0 in /usr/local/lib/python3.11/dist-packages (from pydantic<2.12,>=2.0->gradio) (0.7.0)\n",
            "Requirement already satisfied: pydantic-core==2.33.2 in /usr/local/lib/python3.11/dist-packages (from pydantic<2.12,>=2.0->gradio) (2.33.2)\n",
            "Requirement already satisfied: typing-inspection>=0.4.0 in /usr/local/lib/python3.11/dist-packages (from pydantic<2.12,>=2.0->gradio) (0.4.1)\n",
            "Requirement already satisfied: click>=8.0.0 in /usr/local/lib/python3.11/dist-packages (from typer<1.0,>=0.12->gradio) (8.2.1)\n",
            "Requirement already satisfied: shellingham>=1.3.0 in /usr/local/lib/python3.11/dist-packages (from typer<1.0,>=0.12->gradio) (1.5.4)\n",
            "Requirement already satisfied: rich>=10.11.0 in /usr/local/lib/python3.11/dist-packages (from typer<1.0,>=0.12->gradio) (13.9.4)\n",
            "Requirement already satisfied: six>=1.5 in /usr/local/lib/python3.11/dist-packages (from python-dateutil>=2.8.2->pandas<3.0,>=1.0->gradio) (1.17.0)\n",
            "Requirement already satisfied: markdown-it-py>=2.2.0 in /usr/local/lib/python3.11/dist-packages (from rich>=10.11.0->typer<1.0,>=0.12->gradio) (3.0.0)\n",
            "Requirement already satisfied: pygments<3.0.0,>=2.13.0 in /usr/local/lib/python3.11/dist-packages (from rich>=10.11.0->typer<1.0,>=0.12->gradio) (2.19.1)\n",
            "Requirement already satisfied: charset-normalizer<4,>=2 in /usr/local/lib/python3.11/dist-packages (from requests->huggingface-hub>=0.28.1->gradio) (3.4.2)\n",
            "Requirement already satisfied: urllib3<3,>=1.21.1 in /usr/local/lib/python3.11/dist-packages (from requests->huggingface-hub>=0.28.1->gradio) (2.4.0)\n",
            "Requirement already satisfied: mdurl~=0.1 in /usr/local/lib/python3.11/dist-packages (from markdown-it-py>=2.2.0->rich>=10.11.0->typer<1.0,>=0.12->gradio) (0.1.2)\n"
          ]
        }
      ]
    },
    {
      "cell_type": "code",
      "source": [
        "from google.colab import drive\n",
        "drive.mount('/content/drive')"
      ],
      "metadata": {
        "id": "WcvrK_2ldHmP",
        "colab": {
          "base_uri": "https://localhost:8080/"
        },
        "outputId": "e3e4538e-5f20-4406-93e0-c9e05e403878"
      },
      "execution_count": null,
      "outputs": [
        {
          "output_type": "stream",
          "name": "stdout",
          "text": [
            "Drive already mounted at /content/drive; to attempt to forcibly remount, call drive.mount(\"/content/drive\", force_remount=True).\n"
          ]
        }
      ]
    },
    {
      "cell_type": "code",
      "source": [
        "from google.colab import drive\n",
        "drive.mount('/content/drive')\n"
      ],
      "metadata": {
        "id": "-iEjpW304f_W",
        "colab": {
          "base_uri": "https://localhost:8080/"
        },
        "outputId": "b87fb9aa-8407-4af2-aded-75a8a2903e36"
      },
      "execution_count": null,
      "outputs": [
        {
          "output_type": "stream",
          "name": "stdout",
          "text": [
            "Drive already mounted at /content/drive; to attempt to forcibly remount, call drive.mount(\"/content/drive\", force_remount=True).\n"
          ]
        }
      ]
    },
    {
      "cell_type": "code",
      "source": [
        "!ls \"/content/drive/MyDrive\"\n"
      ],
      "metadata": {
        "id": "9bKVqD_U6gGF",
        "colab": {
          "base_uri": "https://localhost:8080/"
        },
        "outputId": "9a82fab4-3b0f-4f07-d8f2-00c8978618d8",
        "collapsed": true
      },
      "execution_count": null,
      "outputs": [
        {
          "output_type": "stream",
          "name": "stdout",
          "text": [
            " 23087440.R\n",
            " 23087440-WQD7007LabTest.gdoc\n",
            "'Airbnb background.gdoc'\n",
            "'Applied Machine Learning_GROUP 4 '\n",
            " Assignment1_23087440.gdoc\n",
            " Big_Data_dataset\n",
            "'Big data project .gdoc'\n",
            "'Case study.gslides'\n",
            " climatechangeimpactonagriculture2024.csv\n",
            "'Colab Notebooks'\n",
            "'Copy of Minimalist Business Slides XL Green variant by Slidesgo.gslides'\n",
            "'Data Glam Squad Script.gdoc'\n",
            "'Data Glam Squad WQD7003.gslides'\n",
            "'Data lifecycle exemplar.gslides'\n",
            "'Data lifecycle plan.gslides'\n",
            "'Dataset Sharing - (Statistic).gdoc'\n",
            " EBSCO\n",
            "'FAKE NEWS DETECTION USING MACHINE LEARNING IMPLEMENTATION.gslides'\n",
            "'Gender Pay Gap Discrimination Case.gslides'\n",
            "'Group16-Demo Resources.gdoc'\n",
            " Group4-WQD7012.gslides\n",
            "'Group Assessment.gdoc'\n",
            "'Group Eight .gslides'\n",
            "' Group project (WQD7004).gdoc'\n",
            " LeeMinQi_23087440_AA2.gdoc\n",
            "'LeeMinQi_23087440_Data Visualization Power BI- Lab.gdoc'\n",
            "'LeeMinQi_23087440_GCP .gdoc'\n",
            "'LeeMinQi(23087440).gdoc'\n",
            " LeeMinQi_23087440_Tutorial11.gdoc\n",
            " LeeMinQi.23087440_Tutorial9.gdoc\n",
            " LeeMinQi_23087440_Tutorial.gdoc\n",
            " LeeMinQi-Group4.gdoc\n",
            "'Meeting Minutes 1 (05 12 24).gdoc'\n",
            "'MINUTES template.gdoc'\n",
            "'NLP Group Project_Group16'\n",
            "'NLP_Group_Project_Group16_(LSTM) (1).ipynb'\n",
            "'Research asg 1.gdoc'\n",
            "'Research Methodology Script.gdoc'\n",
            " SAS_Assignment_23087440.gdoc\n",
            " saved_bert_model\n",
            "'Self copy literature review for ML.gdoc'\n",
            "' Stat class activity_week 6.gdoc'\n",
            "'SupportVector_Group4 '\n",
            " timetable.png\n",
            "'Title: Gender Pay Gap A statistical comparison.gdoc'\n",
            " Tutorial1_WQD7012.gdoc\n",
            "'Untitled document (1).gdoc'\n",
            "'Untitled document (2).gdoc'\n",
            "'Untitled document (3).gdoc'\n",
            "'Untitled document (4).gdoc'\n",
            "'Untitled document (5).gdoc'\n",
            "'Untitled document (6).gdoc'\n",
            "'Untitled document.gdoc'\n",
            "'Untitled spreadsheet.gsheet'\n",
            "'WDQ7009 Individual LeeMinQi(23087440).gdoc'\n",
            "'Week4 - Applied ML.gdoc'\n",
            "'Week 6_applied ML.gdoc'\n",
            "'WOX7001 (activity) .gdoc'\n",
            "'WOX7001 Asg2.gdoc'\n",
            "'WOX7001 Group activity.gslides'\n",
            "'WQD7001 .gdoc'\n",
            "'WQD7001_GP1_proposal (draf).gdoc'\n",
            "'WQD7001 Group Assignment 2.gslides'\n",
            "'WQD7003 Data Glam Squad (Heart Disease).gdoc'\n",
            " WQD7003_Group8.gdoc\n",
            "'WQD7004_Group8 '\n",
            "'Wqd7004 Programming draft .gdoc'\n",
            "'WQD7006 7012_Group Eight .gslides'\n",
            "'WQD7009 AA1.gdoc'\n",
            "'WQD7009 Big Data Presentation Script.gdoc'\n",
            "'WQD7009 Group 11.gslides'\n",
            "'WQD7009 Individual.gdoc'\n",
            "'WQD7009 midterm.gdoc'\n",
            " WQD7012-Group4\n",
            " WQD7013_Group18\n",
            " WQD7013-Statistics.gform\n"
          ]
        }
      ]
    },
    {
      "cell_type": "code",
      "execution_count": null,
      "metadata": {
        "id": "BM4-eW2l28j8",
        "colab": {
          "base_uri": "https://localhost:8080/",
          "height": 732
        },
        "outputId": "440bb22a-99a8-4b3d-9eda-94e9648acf9b"
      },
      "outputs": [
        {
          "output_type": "stream",
          "name": "stderr",
          "text": [
            "Some layers from the model checkpoint at /content/drive/MyDrive/saved_bert_model were not used when initializing TFBertForSequenceClassification: ['dropout_37']\n",
            "- This IS expected if you are initializing TFBertForSequenceClassification from the checkpoint of a model trained on another task or with another architecture (e.g. initializing a BertForSequenceClassification model from a BertForPreTraining model).\n",
            "- This IS NOT expected if you are initializing TFBertForSequenceClassification from the checkpoint of a model that you expect to be exactly identical (initializing a BertForSequenceClassification model from a BertForSequenceClassification model).\n",
            "All the layers of TFBertForSequenceClassification were initialized from the model checkpoint at /content/drive/MyDrive/saved_bert_model.\n",
            "If your task is similar to the task the model of the checkpoint was trained on, you can already use TFBertForSequenceClassification for predictions without further training.\n"
          ]
        },
        {
          "output_type": "stream",
          "name": "stdout",
          "text": [
            "It looks like you are running Gradio on a hosted a Jupyter notebook. For the Gradio app to work, sharing must be enabled. Automatically setting `share=True` (you can turn this off by setting `share=False` in `launch()` explicitly).\n",
            "\n",
            "Colab notebook detected. To show errors in colab notebook, set debug=True in launch()\n",
            "* Running on public URL: https://b58f92cc3987e0aa67.gradio.live\n",
            "\n",
            "This share link expires in 1 week. For free permanent hosting and GPU upgrades, run `gradio deploy` from the terminal in the working directory to deploy to Hugging Face Spaces (https://huggingface.co/spaces)\n"
          ]
        },
        {
          "output_type": "display_data",
          "data": {
            "text/plain": [
              "<IPython.core.display.HTML object>"
            ],
            "text/html": [
              "<div><iframe src=\"https://b58f92cc3987e0aa67.gradio.live\" width=\"100%\" height=\"500\" allow=\"autoplay; camera; microphone; clipboard-read; clipboard-write;\" frameborder=\"0\" allowfullscreen></iframe></div>"
            ]
          },
          "metadata": {}
        },
        {
          "output_type": "execute_result",
          "data": {
            "text/plain": []
          },
          "metadata": {},
          "execution_count": 10
        }
      ],
      "source": [
        "# ---- Create Gradio Interface (BERT Only) ----\n",
        "\n",
        "import gradio as gr\n",
        "import tensorflow as tf\n",
        "from transformers import TFBertForSequenceClassification, BertTokenizer\n",
        "import numpy as np\n",
        "\n",
        "# ---- Define Path to Saved BERT Model in Drive ----\n",
        "# Make sure the folder was added to \"My Drive\" as a shortcut\n",
        "model_path = \"/content/drive/MyDrive/saved_bert_model\"\n",
        "\n",
        "# ---- Load the BERT Model and Tokenizer ----\n",
        "bert_model = TFBertForSequenceClassification.from_pretrained(model_path)\n",
        "bert_tokenizer = BertTokenizer.from_pretrained(model_path)\n",
        "\n",
        "def predict_fake_news(text):\n",
        "    # Tokenize input\n",
        "    inputs = bert_tokenizer(text, return_tensors='tf', truncation=True, padding=True, max_length=512)\n",
        "\n",
        "    # Get prediction logits and convert to probabilities\n",
        "    predictions = bert_model(inputs)\n",
        "    probs = tf.nn.softmax(predictions.logits, axis=1).numpy()[0]\n",
        "\n",
        "    real_pct = probs[1] * 100\n",
        "    fake_pct = probs[0] * 100\n",
        "\n",
        "    label = \"REAL\" if real_pct > fake_pct else \"FAKE\"\n",
        "\n",
        "    # Format the output string\n",
        "    result = f\"🟢 Real: {real_pct:.2f}%\\n🔴 Fake: {fake_pct:.2f}%\\n\\nPrediction: {label}\"\n",
        "    return result\n",
        "\n",
        "# Gradio interface\n",
        "iface = gr.Interface(\n",
        "    fn=predict_fake_news,\n",
        "    inputs=gr.Textbox(label=\"Enter News Article\"),\n",
        "    outputs=\"text\",\n",
        "    title=\"Fake News Detection with BERT\",\n",
        "    description=\"Enter a news article to check if it is real or fake using a fine-tuned BERT model.\"\n",
        ")\n",
        "\n",
        "# Launch\n",
        "iface.launch()"
      ]
    }
  ]
}