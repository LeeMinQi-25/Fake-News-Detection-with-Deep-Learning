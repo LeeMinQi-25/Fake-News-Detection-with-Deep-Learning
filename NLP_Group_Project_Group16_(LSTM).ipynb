{
  "nbformat": 4,
  "nbformat_minor": 0,
  "metadata": {
    "colab": {
      "provenance": [],
      "gpuType": "T4",
      "include_colab_link": true
    },
    "kernelspec": {
      "name": "python3",
      "display_name": "Python 3"
    },
    "language_info": {
      "name": "python"
    },
    "accelerator": "GPU"
  },
  "cells": [
    {
      "cell_type": "markdown",
      "metadata": {
        "id": "view-in-github",
        "colab_type": "text"
      },
      "source": [
        "<a href=\"https://colab.research.google.com/github/LeeMinQi-25/Fake-News-Detection-with-Deep-Learning/blob/main/NLP_Group_Project_Group16_(LSTM).ipynb\" target=\"_parent\"><img src=\"https://colab.research.google.com/assets/colab-badge.svg\" alt=\"Open In Colab\"/></a>"
      ]
    },
    {
      "cell_type": "code",
      "execution_count": null,
      "metadata": {
        "colab": {
          "base_uri": "https://localhost:8080/"
        },
        "collapsed": true,
        "id": "H2XQmFn16GCv",
        "outputId": "a8ae8f5a-2b88-4d05-b33a-d521c4cee08f"
      },
      "outputs": [
        {
          "output_type": "stream",
          "name": "stdout",
          "text": [
            "Collecting gradio\n",
            "  Downloading gradio-5.31.0-py3-none-any.whl.metadata (16 kB)\n",
            "Collecting aiofiles<25.0,>=22.0 (from gradio)\n",
            "  Downloading aiofiles-24.1.0-py3-none-any.whl.metadata (10 kB)\n",
            "Requirement already satisfied: anyio<5.0,>=3.0 in /usr/local/lib/python3.11/dist-packages (from gradio) (4.9.0)\n",
            "Collecting fastapi<1.0,>=0.115.2 (from gradio)\n",
            "  Downloading fastapi-0.115.12-py3-none-any.whl.metadata (27 kB)\n",
            "Collecting ffmpy (from gradio)\n",
            "  Downloading ffmpy-0.5.0-py3-none-any.whl.metadata (3.0 kB)\n",
            "Collecting gradio-client==1.10.1 (from gradio)\n",
            "  Downloading gradio_client-1.10.1-py3-none-any.whl.metadata (7.1 kB)\n",
            "Collecting groovy~=0.1 (from gradio)\n",
            "  Downloading groovy-0.1.2-py3-none-any.whl.metadata (6.1 kB)\n",
            "Requirement already satisfied: httpx>=0.24.1 in /usr/local/lib/python3.11/dist-packages (from gradio) (0.28.1)\n",
            "Requirement already satisfied: huggingface-hub>=0.28.1 in /usr/local/lib/python3.11/dist-packages (from gradio) (0.31.2)\n",
            "Requirement already satisfied: jinja2<4.0 in /usr/local/lib/python3.11/dist-packages (from gradio) (3.1.6)\n",
            "Requirement already satisfied: markupsafe<4.0,>=2.0 in /usr/local/lib/python3.11/dist-packages (from gradio) (3.0.2)\n",
            "Requirement already satisfied: numpy<3.0,>=1.0 in /usr/local/lib/python3.11/dist-packages (from gradio) (2.0.2)\n",
            "Requirement already satisfied: orjson~=3.0 in /usr/local/lib/python3.11/dist-packages (from gradio) (3.10.18)\n",
            "Requirement already satisfied: packaging in /usr/local/lib/python3.11/dist-packages (from gradio) (24.2)\n",
            "Requirement already satisfied: pandas<3.0,>=1.0 in /usr/local/lib/python3.11/dist-packages (from gradio) (2.2.2)\n",
            "Requirement already satisfied: pillow<12.0,>=8.0 in /usr/local/lib/python3.11/dist-packages (from gradio) (11.2.1)\n",
            "Requirement already satisfied: pydantic<2.12,>=2.0 in /usr/local/lib/python3.11/dist-packages (from gradio) (2.11.4)\n",
            "Collecting pydub (from gradio)\n",
            "  Downloading pydub-0.25.1-py2.py3-none-any.whl.metadata (1.4 kB)\n",
            "Collecting python-multipart>=0.0.18 (from gradio)\n",
            "  Downloading python_multipart-0.0.20-py3-none-any.whl.metadata (1.8 kB)\n",
            "Requirement already satisfied: pyyaml<7.0,>=5.0 in /usr/local/lib/python3.11/dist-packages (from gradio) (6.0.2)\n",
            "Collecting ruff>=0.9.3 (from gradio)\n",
            "  Downloading ruff-0.11.11-py3-none-manylinux_2_17_x86_64.manylinux2014_x86_64.whl.metadata (25 kB)\n",
            "Collecting safehttpx<0.2.0,>=0.1.6 (from gradio)\n",
            "  Downloading safehttpx-0.1.6-py3-none-any.whl.metadata (4.2 kB)\n",
            "Collecting semantic-version~=2.0 (from gradio)\n",
            "  Downloading semantic_version-2.10.0-py2.py3-none-any.whl.metadata (9.7 kB)\n",
            "Collecting starlette<1.0,>=0.40.0 (from gradio)\n",
            "  Downloading starlette-0.46.2-py3-none-any.whl.metadata (6.2 kB)\n",
            "Collecting tomlkit<0.14.0,>=0.12.0 (from gradio)\n",
            "  Downloading tomlkit-0.13.2-py3-none-any.whl.metadata (2.7 kB)\n",
            "Requirement already satisfied: typer<1.0,>=0.12 in /usr/local/lib/python3.11/dist-packages (from gradio) (0.15.3)\n",
            "Requirement already satisfied: typing-extensions~=4.0 in /usr/local/lib/python3.11/dist-packages (from gradio) (4.13.2)\n",
            "Collecting uvicorn>=0.14.0 (from gradio)\n",
            "  Downloading uvicorn-0.34.2-py3-none-any.whl.metadata (6.5 kB)\n",
            "Requirement already satisfied: fsspec in /usr/local/lib/python3.11/dist-packages (from gradio-client==1.10.1->gradio) (2025.3.2)\n",
            "Requirement already satisfied: websockets<16.0,>=10.0 in /usr/local/lib/python3.11/dist-packages (from gradio-client==1.10.1->gradio) (15.0.1)\n",
            "Requirement already satisfied: idna>=2.8 in /usr/local/lib/python3.11/dist-packages (from anyio<5.0,>=3.0->gradio) (3.10)\n",
            "Requirement already satisfied: sniffio>=1.1 in /usr/local/lib/python3.11/dist-packages (from anyio<5.0,>=3.0->gradio) (1.3.1)\n",
            "Requirement already satisfied: certifi in /usr/local/lib/python3.11/dist-packages (from httpx>=0.24.1->gradio) (2025.4.26)\n",
            "Requirement already satisfied: httpcore==1.* in /usr/local/lib/python3.11/dist-packages (from httpx>=0.24.1->gradio) (1.0.9)\n",
            "Requirement already satisfied: h11>=0.16 in /usr/local/lib/python3.11/dist-packages (from httpcore==1.*->httpx>=0.24.1->gradio) (0.16.0)\n",
            "Requirement already satisfied: filelock in /usr/local/lib/python3.11/dist-packages (from huggingface-hub>=0.28.1->gradio) (3.18.0)\n",
            "Requirement already satisfied: requests in /usr/local/lib/python3.11/dist-packages (from huggingface-hub>=0.28.1->gradio) (2.32.3)\n",
            "Requirement already satisfied: tqdm>=4.42.1 in /usr/local/lib/python3.11/dist-packages (from huggingface-hub>=0.28.1->gradio) (4.67.1)\n",
            "Requirement already satisfied: python-dateutil>=2.8.2 in /usr/local/lib/python3.11/dist-packages (from pandas<3.0,>=1.0->gradio) (2.9.0.post0)\n",
            "Requirement already satisfied: pytz>=2020.1 in /usr/local/lib/python3.11/dist-packages (from pandas<3.0,>=1.0->gradio) (2025.2)\n",
            "Requirement already satisfied: tzdata>=2022.7 in /usr/local/lib/python3.11/dist-packages (from pandas<3.0,>=1.0->gradio) (2025.2)\n",
            "Requirement already satisfied: annotated-types>=0.6.0 in /usr/local/lib/python3.11/dist-packages (from pydantic<2.12,>=2.0->gradio) (0.7.0)\n",
            "Requirement already satisfied: pydantic-core==2.33.2 in /usr/local/lib/python3.11/dist-packages (from pydantic<2.12,>=2.0->gradio) (2.33.2)\n",
            "Requirement already satisfied: typing-inspection>=0.4.0 in /usr/local/lib/python3.11/dist-packages (from pydantic<2.12,>=2.0->gradio) (0.4.0)\n",
            "Requirement already satisfied: click>=8.0.0 in /usr/local/lib/python3.11/dist-packages (from typer<1.0,>=0.12->gradio) (8.2.0)\n",
            "Requirement already satisfied: shellingham>=1.3.0 in /usr/local/lib/python3.11/dist-packages (from typer<1.0,>=0.12->gradio) (1.5.4)\n",
            "Requirement already satisfied: rich>=10.11.0 in /usr/local/lib/python3.11/dist-packages (from typer<1.0,>=0.12->gradio) (13.9.4)\n",
            "Requirement already satisfied: six>=1.5 in /usr/local/lib/python3.11/dist-packages (from python-dateutil>=2.8.2->pandas<3.0,>=1.0->gradio) (1.17.0)\n",
            "Requirement already satisfied: markdown-it-py>=2.2.0 in /usr/local/lib/python3.11/dist-packages (from rich>=10.11.0->typer<1.0,>=0.12->gradio) (3.0.0)\n",
            "Requirement already satisfied: pygments<3.0.0,>=2.13.0 in /usr/local/lib/python3.11/dist-packages (from rich>=10.11.0->typer<1.0,>=0.12->gradio) (2.19.1)\n",
            "Requirement already satisfied: charset-normalizer<4,>=2 in /usr/local/lib/python3.11/dist-packages (from requests->huggingface-hub>=0.28.1->gradio) (3.4.2)\n",
            "Requirement already satisfied: urllib3<3,>=1.21.1 in /usr/local/lib/python3.11/dist-packages (from requests->huggingface-hub>=0.28.1->gradio) (2.4.0)\n",
            "Requirement already satisfied: mdurl~=0.1 in /usr/local/lib/python3.11/dist-packages (from markdown-it-py>=2.2.0->rich>=10.11.0->typer<1.0,>=0.12->gradio) (0.1.2)\n",
            "Downloading gradio-5.31.0-py3-none-any.whl (54.2 MB)\n",
            "\u001b[2K   \u001b[90m━━━━━━━━━━━━━━━━━━━━━━━━━━━━━━━━━━━━━━━━\u001b[0m \u001b[32m54.2/54.2 MB\u001b[0m \u001b[31m13.7 MB/s\u001b[0m eta \u001b[36m0:00:00\u001b[0m\n",
            "\u001b[?25hDownloading gradio_client-1.10.1-py3-none-any.whl (323 kB)\n",
            "\u001b[2K   \u001b[90m━━━━━━━━━━━━━━━━━━━━━━━━━━━━━━━━━━━━━━━━\u001b[0m \u001b[32m323.1/323.1 kB\u001b[0m \u001b[31m27.6 MB/s\u001b[0m eta \u001b[36m0:00:00\u001b[0m\n",
            "\u001b[?25hDownloading aiofiles-24.1.0-py3-none-any.whl (15 kB)\n",
            "Downloading fastapi-0.115.12-py3-none-any.whl (95 kB)\n",
            "\u001b[2K   \u001b[90m━━━━━━━━━━━━━━━━━━━━━━━━━━━━━━━━━━━━━━━━\u001b[0m \u001b[32m95.2/95.2 kB\u001b[0m \u001b[31m8.6 MB/s\u001b[0m eta \u001b[36m0:00:00\u001b[0m\n",
            "\u001b[?25hDownloading groovy-0.1.2-py3-none-any.whl (14 kB)\n",
            "Downloading python_multipart-0.0.20-py3-none-any.whl (24 kB)\n",
            "Downloading ruff-0.11.11-py3-none-manylinux_2_17_x86_64.manylinux2014_x86_64.whl (11.5 MB)\n",
            "\u001b[2K   \u001b[90m━━━━━━━━━━━━━━━━━━━━━━━━━━━━━━━━━━━━━━━━\u001b[0m \u001b[32m11.5/11.5 MB\u001b[0m \u001b[31m86.5 MB/s\u001b[0m eta \u001b[36m0:00:00\u001b[0m\n",
            "\u001b[?25hDownloading safehttpx-0.1.6-py3-none-any.whl (8.7 kB)\n",
            "Downloading semantic_version-2.10.0-py2.py3-none-any.whl (15 kB)\n",
            "Downloading starlette-0.46.2-py3-none-any.whl (72 kB)\n",
            "\u001b[2K   \u001b[90m━━━━━━━━━━━━━━━━━━━━━━━━━━━━━━━━━━━━━━━━\u001b[0m \u001b[32m72.0/72.0 kB\u001b[0m \u001b[31m7.6 MB/s\u001b[0m eta \u001b[36m0:00:00\u001b[0m\n",
            "\u001b[?25hDownloading tomlkit-0.13.2-py3-none-any.whl (37 kB)\n",
            "Downloading uvicorn-0.34.2-py3-none-any.whl (62 kB)\n",
            "\u001b[2K   \u001b[90m━━━━━━━━━━━━━━━━━━━━━━━━━━━━━━━━━━━━━━━━\u001b[0m \u001b[32m62.5/62.5 kB\u001b[0m \u001b[31m6.1 MB/s\u001b[0m eta \u001b[36m0:00:00\u001b[0m\n",
            "\u001b[?25hDownloading ffmpy-0.5.0-py3-none-any.whl (6.0 kB)\n",
            "Downloading pydub-0.25.1-py2.py3-none-any.whl (32 kB)\n",
            "Installing collected packages: pydub, uvicorn, tomlkit, semantic-version, ruff, python-multipart, groovy, ffmpy, aiofiles, starlette, safehttpx, gradio-client, fastapi, gradio\n",
            "Successfully installed aiofiles-24.1.0 fastapi-0.115.12 ffmpy-0.5.0 gradio-5.31.0 gradio-client-1.10.1 groovy-0.1.2 pydub-0.25.1 python-multipart-0.0.20 ruff-0.11.11 safehttpx-0.1.6 semantic-version-2.10.0 starlette-0.46.2 tomlkit-0.13.2 uvicorn-0.34.2\n"
          ]
        }
      ],
      "source": [
        "!pip install gradio"
      ]
    },
    {
      "cell_type": "code",
      "source": [
        "import pandas as pd\n",
        "from sklearn.model_selection import train_test_split\n",
        "from transformers import BertTokenizer, TFBertForSequenceClassification\n",
        "import tensorflow as tf\n",
        "from sklearn.metrics import accuracy_score, precision_score, recall_score, f1_score, confusion_matrix\n",
        "from tensorflow.keras.preprocessing.sequence import pad_sequences\n",
        "from tensorflow.keras.models import Sequential\n",
        "from tensorflow.keras.layers import Embedding, LSTM, Dense, Dropout\n",
        "import gradio as gr\n",
        "\n",
        "# ----- DATA LOADING & PREPROCESSING -----\n",
        "df = pd.read_csv(\"WELFake_Dataset.csv\")  # Replace with your actual CSV filename\n",
        "df = df.dropna(subset=['title', 'text', 'label']).reset_index(drop=True)\n",
        "df['Text'] = df['title'] + \" \" + df['text']\n",
        "df = df[['Text', 'label']].rename(columns={'label': 'Label'})\n",
        "df['Label'] = df['Label'].astype(int)\n",
        "\n",
        "print(\"Dataset shape after cleaning:\", df.shape)\n",
        "\n",
        "# ----- TRAIN-TEST SPLIT -----\n",
        "train_texts, test_texts, train_labels, test_labels = train_test_split(\n",
        "    df['Text'].tolist(), df['Label'].tolist(), test_size=0.2\n",
        ")"
      ],
      "metadata": {
        "colab": {
          "base_uri": "https://localhost:8080/"
        },
        "id": "tyChF_TV6cbX",
        "outputId": "ab88bd9d-8dcf-40d6-f742-ff7c2d4d3115"
      },
      "execution_count": null,
      "outputs": [
        {
          "output_type": "stream",
          "name": "stdout",
          "text": [
            "Dataset shape after cleaning: (71537, 2)\n"
          ]
        }
      ]
    },
    {
      "cell_type": "code",
      "source": [
        "# Save cleaned dataset to CSV\n",
        "df.to_csv(\"cleaned_dataset.csv\", index=False)"
      ],
      "metadata": {
        "id": "RqMwzNtGhukU"
      },
      "execution_count": null,
      "outputs": []
    },
    {
      "cell_type": "code",
      "source": [
        "import tensorflow as tf\n",
        "print(\"Num GPUs Available:\", len(tf.config.list_physical_devices('GPU')))"
      ],
      "metadata": {
        "colab": {
          "base_uri": "https://localhost:8080/"
        },
        "id": "yampXa4w6rpm",
        "outputId": "8412b48d-a647-40ac-8838-f561e5c45231"
      },
      "execution_count": null,
      "outputs": [
        {
          "output_type": "stream",
          "name": "stdout",
          "text": [
            "Num GPUs Available: 1\n"
          ]
        }
      ]
    },
    {
      "cell_type": "code",
      "source": [
        "# ---- LSTM Model Setup ----\n",
        "# Tokenize the texts for LSTM (using padding and truncation)\n",
        "from tensorflow.keras.preprocessing.text import Tokenizer\n",
        "max_length = 200  # LSTM model maximum input length\n",
        "vocab_size = 10000\n",
        "\n",
        "# Initialize and fit the tokenizer on training texts\n",
        "lstm_tokenizer = Tokenizer(num_words=vocab_size, oov_token=\"<OOV>\")\n",
        "lstm_tokenizer.fit_on_texts(train_texts)\n",
        "\n",
        "# Convert texts to sequences\n",
        "train_sequences = lstm_tokenizer.texts_to_sequences(train_texts)\n",
        "test_sequences = lstm_tokenizer.texts_to_sequences(test_texts)\n",
        "\n",
        "# Pad sequences to ensure uniform input size\n",
        "train_sequences = pad_sequences(train_sequences, maxlen=max_length, padding='post', truncating='post')\n",
        "test_sequences = pad_sequences(test_sequences, maxlen=max_length, padding='post', truncating='post')\n",
        "\n",
        "# Define the LSTM model architecture\n",
        "lstm_model = Sequential([\n",
        "    Embedding(input_dim=vocab_size, output_dim=128, input_length=max_length),\n",
        "    LSTM(128, dropout=0.2, recurrent_dropout=0.2),\n",
        "    Dense(64, activation='relu'),\n",
        "    Dropout(0.5),\n",
        "    Dense(2, activation='softmax')\n",
        "])\n",
        "\n",
        "# Compile the LSTM model\n",
        "lstm_model.compile(optimizer=tf.keras.optimizers.Adam(learning_rate=0.001),\n",
        "                   loss='sparse_categorical_crossentropy',\n",
        "                   metrics=['accuracy'])\n",
        "\n",
        "import numpy as np\n",
        "\n",
        "train_labels = np.array(train_labels).astype(\"int\")\n",
        "test_labels = np.array(test_labels).astype(\"int\")\n",
        "\n",
        "# Train the LSTM model\n",
        "lstm_history = lstm_model.fit(train_sequences, train_labels,\n",
        "                              epochs=3,\n",
        "                              batch_size=16,\n",
        "                              validation_data=(test_sequences, test_labels))"
      ],
      "metadata": {
        "colab": {
          "base_uri": "https://localhost:8080/"
        },
        "id": "UoOpg0Pv6x6K",
        "outputId": "7fcb8bbc-b7af-4eeb-c079-c7f9b03749a9"
      },
      "execution_count": null,
      "outputs": [
        {
          "output_type": "stream",
          "name": "stdout",
          "text": [
            "Epoch 1/3\n",
            "\u001b[1m3577/3577\u001b[0m \u001b[32m━━━━━━━━━━━━━━━━━━━━\u001b[0m\u001b[37m\u001b[0m \u001b[1m2356s\u001b[0m 656ms/step - accuracy: 0.6839 - loss: 0.5836 - val_accuracy: 0.9421 - val_loss: 0.1494\n",
            "Epoch 2/3\n",
            "\u001b[1m3577/3577\u001b[0m \u001b[32m━━━━━━━━━━━━━━━━━━━━\u001b[0m\u001b[37m\u001b[0m \u001b[1m2354s\u001b[0m 655ms/step - accuracy: 0.9583 - loss: 0.1244 - val_accuracy: 0.9745 - val_loss: 0.0667\n",
            "Epoch 3/3\n",
            "\u001b[1m3577/3577\u001b[0m \u001b[32m━━━━━━━━━━━━━━━━━━━━\u001b[0m\u001b[37m\u001b[0m \u001b[1m2338s\u001b[0m 648ms/step - accuracy: 0.9828 - loss: 0.0496 - val_accuracy: 0.9774 - val_loss: 0.0650\n"
          ]
        }
      ]
    },
    {
      "cell_type": "code",
      "source": [
        "# Save the full model\n",
        "lstm_model.save(\"saved_lstm_model.keras\")\n"
      ],
      "metadata": {
        "id": "cCmMPn1M8kF-"
      },
      "execution_count": null,
      "outputs": []
    },
    {
      "cell_type": "markdown",
      "source": [
        "Try to evaluate\n"
      ],
      "metadata": {
        "id": "cQu_p9v5b-9W"
      }
    },
    {
      "cell_type": "code",
      "source": [
        "# ---- Import Required Modules ----\n",
        "import tensorflow as tf\n",
        "from tensorflow.keras.models import load_model\n",
        "from transformers import TFBertForSequenceClassification, BertTokenizer\n",
        "from sklearn.metrics import accuracy_score, precision_score, recall_score, f1_score, confusion_matrix\n",
        "from tensorflow.keras.preprocessing.sequence import pad_sequences\n",
        "import numpy as np\n",
        "from sklearn.model_selection import train_test_split\n",
        "import pandas as pd\n",
        "\n",
        "# ---- Load Test Data ----\n",
        "# Load the cleaned dataset\n",
        "df_cleaned = pd.read_csv(\"cleaned_dataset.csv\")\n",
        "test_texts = df_cleaned['Text'].tolist()\n",
        "test_labels = df_cleaned['Label'].tolist()\n",
        "\n",
        "# ---- Load Pretrained Models ----\n",
        "# Load LSTM model\n",
        "lstm_model = load_model(\"saved_lstm_model.keras\")\n",
        "\n",
        "# Load BERT model and tokenizer\n",
        "bert_model = TFBertForSequenceClassification.from_pretrained(\"saved_bert_model\")\n",
        "bert_tokenizer = BertTokenizer.from_pretrained(\"saved_bert_model\")\n",
        "\n",
        "# ---- Preprocess Test Data ----\n",
        "\n",
        "# Preprocess for LSTM\n",
        "from tensorflow.keras.preprocessing.text import Tokenizer\n",
        "\n",
        "# Load the tokenizer used during training (should be saved if needed)\n",
        "# For now, rebuild using same vocab_size and fit again (best to persist tokenizer next time)\n",
        "vocab_size = 10000\n",
        "max_length = 200\n",
        "\n",
        "lstm_tokenizer = Tokenizer(num_words=vocab_size, oov_token=\"<OOV>\")\n",
        "lstm_tokenizer.fit_on_texts(test_texts)  # not ideal, but okay for simple reuse\n",
        "test_sequences = lstm_tokenizer.texts_to_sequences(test_texts)\n",
        "test_sequences = pad_sequences(test_sequences, maxlen=max_length, padding='post', truncating='post')\n",
        "\n",
        "# Preprocess for BERT\n",
        "test_encodings = bert_tokenizer(test_texts, truncation=True, padding=True, max_length=256, return_tensors='tf')\n",
        "\n",
        "# ---- Model Predictions ----\n",
        "# BERT predictions\n",
        "bert_outputs = bert_model.predict(dict(test_encodings), batch_size=8)\n",
        "bert_predicted_classes = tf.argmax(bert_outputs.logits, axis=1).numpy()\n",
        "\n",
        "# LSTM predictions\n",
        "lstm_outputs = lstm_model.predict(test_sequences, batch_size=8)\n",
        "lstm_predicted_classes = tf.argmax(lstm_outputs, axis=1).numpy()\n",
        "\n",
        "# ---- Evaluation Metrics for Both Models ----\n",
        "from sklearn.metrics import accuracy_score, precision_score, recall_score, f1_score, confusion_matrix\n",
        "\n",
        "def evaluate_model(predicted_classes, true_labels):\n",
        "    accuracy = accuracy_score(true_labels, predicted_classes)\n",
        "    precision = precision_score(true_labels, predicted_classes)\n",
        "    recall = recall_score(true_labels, predicted_classes)\n",
        "    f1 = f1_score(true_labels, predicted_classes)\n",
        "    conf_matrix = confusion_matrix(true_labels, predicted_classes)\n",
        "    return accuracy, precision, recall, f1, conf_matrix\n",
        "\n",
        "# Evaluate BERT\n",
        "bert_accuracy, bert_precision, bert_recall, bert_f1, bert_conf_matrix = evaluate_model(bert_predicted_classes, test_labels)\n",
        "\n",
        "# Evaluate LSTM\n",
        "lstm_accuracy, lstm_precision, lstm_recall, lstm_f1, lstm_conf_matrix = evaluate_model(lstm_predicted_classes, test_labels)\n",
        "\n",
        "# ---- Print Evaluation Results ----\n",
        "\n",
        "print(\"BERT Model Evaluation:\")\n",
        "print(f\"Accuracy: {bert_accuracy:.4f}\")\n",
        "print(f\"Precision: {bert_precision:.4f}\")\n",
        "print(f\"Recall: {bert_recall:.4f}\")\n",
        "print(f\"F1 Score: {bert_f1:.4f}\")\n",
        "print(f\"Confusion Matrix:\\n{bert_conf_matrix}\")\n",
        "\n",
        "print(\"\\nLSTM Model Evaluation:\")\n",
        "print(f\"Accuracy: {lstm_accuracy:.4f}\")\n",
        "print(f\"Precision: {lstm_precision:.4f}\")\n",
        "print(f\"Recall: {lstm_recall:.4f}\")\n",
        "print(f\"F1 Score: {lstm_f1:.4f}\")\n",
        "print(f\"Confusion Matrix:\\n{lstm_conf_matrix}\")\n"
      ],
      "metadata": {
        "id": "TgueJ50wcG1Q",
        "colab": {
          "base_uri": "https://localhost:8080/"
        },
        "outputId": "8cbfb349-2a08-4d93-b710-8453a756e231"
      },
      "execution_count": null,
      "outputs": [
        {
          "output_type": "stream",
          "name": "stderr",
          "text": [
            "Some layers from the model checkpoint at saved_bert_model were not used when initializing TFBertForSequenceClassification: ['dropout_37']\n",
            "- This IS expected if you are initializing TFBertForSequenceClassification from the checkpoint of a model trained on another task or with another architecture (e.g. initializing a BertForSequenceClassification model from a BertForPreTraining model).\n",
            "- This IS NOT expected if you are initializing TFBertForSequenceClassification from the checkpoint of a model that you expect to be exactly identical (initializing a BertForSequenceClassification model from a BertForSequenceClassification model).\n",
            "All the layers of TFBertForSequenceClassification were initialized from the model checkpoint at saved_bert_model.\n",
            "If your task is similar to the task the model of the checkpoint was trained on, you can already use TFBertForSequenceClassification for predictions without further training.\n"
          ]
        },
        {
          "output_type": "stream",
          "name": "stdout",
          "text": [
            "8943/8943 [==============================] - 1385s 154ms/step\n",
            "\u001b[1m8943/8943\u001b[0m \u001b[32m━━━━━━━━━━━━━━━━━━━━\u001b[0m\u001b[37m\u001b[0m \u001b[1m987s\u001b[0m 110ms/step\n",
            "BERT Model Evaluation:\n",
            "Accuracy: 0.9990\n",
            "Precision: 0.9992\n",
            "Recall: 0.9988\n",
            "F1 Score: 0.9990\n",
            "Confusion Matrix:\n",
            "[[34999    29]\n",
            " [   45 36464]]\n",
            "\n",
            "LSTM Model Evaluation:\n",
            "Accuracy: 0.8049\n",
            "Precision: 0.8430\n",
            "Recall: 0.7591\n",
            "F1 Score: 0.7989\n",
            "Confusion Matrix:\n",
            "[[29868  5160]\n",
            " [ 8794 27715]]\n"
          ]
        }
      ]
    },
    {
      "cell_type": "code",
      "source": [
        "# Save tokenizer as JSON\n",
        "tokenizer_json = lstm_tokenizer.to_json()\n",
        "with open(\"lstm_tokenizer.json\", \"w\") as f:\n",
        "    f.write(tokenizer_json)\n"
      ],
      "metadata": {
        "id": "LTVCiq2JiOY5"
      },
      "execution_count": null,
      "outputs": []
    }
  ]
}